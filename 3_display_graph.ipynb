{
 "cells": [
  {
   "cell_type": "code",
   "execution_count": 26,
   "id": "c8f2fd48-94f3-4372-a8ea-8ca1fc8c5142",
   "metadata": {},
   "outputs": [
    {
     "name": "stdout",
     "output_type": "stream",
     "text": [
      "{'audience_score': '56', 'tomato_meter_score': '29', 'release_date': 'Dec 15, 2021', 'page_title': 'Rumble - Rotten Tomatoes', 'link': 'https://www.rottentomatoes.com/m/rumble_2021'}\n",
      "1796\n",
      "skipped 312\n",
      "[datetime.datetime(2021, 12, 15, 0, 0), datetime.datetime(2021, 12, 10, 0, 0), datetime.datetime(2021, 12, 3, 0, 0), datetime.datetime(2021, 9, 17, 0, 0), datetime.datetime(2021, 12, 3, 0, 0)]\n",
      "[56, 75, 89, 47, 91]\n"
     ]
    }
   ],
   "source": [
    "import pickle\n",
    "from datetime import datetime\n",
    "\n",
    "movies = pickle.load(open('data/movies03-01-2022-18-07-29-1796.pkl', 'rb'))\n",
    "print(movies[0])\n",
    "print(len(movies))\n",
    "\n",
    "parsedMoviesScore = []\n",
    "parsedMoviesReleaseDate = []\n",
    "parsedTitles = []\n",
    "skipped_count = 0\n",
    "\n",
    "\n",
    "for movie in movies:\n",
    "    release_date = movie['release_date']\n",
    "    page_title = movie['page_title']\n",
    "    audience_score = movie['audience_score']\n",
    "    try:\n",
    "        movie_date = datetime.strptime(release_date, '%b %d, %Y')\n",
    "        movies_audience_score = int(audience_score)\n",
    "        movie_name = page_title\n",
    "        if (datetime(2000, 1, 1) > movies_name):\n",
    "            continue \n",
    "        parsedMoviesReleaseDate.append(movie_date)\n",
    "        parsedMoviesScore.append(movies_audience_score)\n",
    "        parsedTitles.append(movie_name)\n",
    "    except:\n",
    "        skipped_count += 1\n",
    "\n",
    "print('skipped', skipped_count)\n",
    "print(parsedMoviesReleaseDate[:5])\n",
    "print(parsedMoviesScore[:5])\n",
    "\n",
    "\n",
    "\n"
   ]
  },
  {
   "cell_type": "code",
   "execution_count": 32,
   "id": "c98b2117-1f53-4fd7-be37-d3184c8288b8",
   "metadata": {},
   "outputs": [],
   "source": [
    "from bokeh.plotting import figure, show, ColumnDataSource, output_file\n",
    "\n",
    "source = ColumnDataSource(data=dict(\n",
    "    x=parsedMoviesReleaseDate,\n",
    "    y=parsedMoviesScore,\n",
    "    parsedTitles=parsedTitles,\n",
    "    parsedMoviesReleaseDate= [date.strftime(\"%m/%d/%Y\") for date in parsedMoviesReleaseDate]\n",
    "))\n",
    "\n",
    "TOOLTIPS = [\n",
    "    (\"Title\", \"@parsedTitles\"),\n",
    "    (\"Audience Score\", \"$y\"),\n",
    "    (\"Release Date\", \"@parsedMoviesReleaseDate\"),\n",
    "]\n",
    "\n",
    "p = figure(title=\"Simple line example\", x_axis_label='x', y_axis_label='y', x_axis_type='datetime',  tooltips=TOOLTIPS)\n",
    "\n",
    "p.circle('x', 'y', source=source)\n",
    "show(p)\n",
    "\n",
    "\n"
   ]
  },
  {
   "cell_type": "code",
   "execution_count": null,
   "id": "d8ddb3ea-2791-4d91-bb85-b3a1bb209a87",
   "metadata": {},
   "outputs": [],
   "source": []
  }
 ],
 "metadata": {
  "kernelspec": {
   "display_name": "rottentomatoes",
   "language": "python",
   "name": "rottentomatoes"
  },
  "language_info": {
   "codemirror_mode": {
    "name": "ipython",
    "version": 3
   },
   "file_extension": ".py",
   "mimetype": "text/x-python",
   "name": "python",
   "nbconvert_exporter": "python",
   "pygments_lexer": "ipython3",
   "version": "3.9.5"
  }
 },
 "nbformat": 4,
 "nbformat_minor": 5
}
