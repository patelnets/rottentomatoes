{
 "cells": [
  {
   "cell_type": "code",
   "execution_count": 4,
   "id": "0baef384",
   "metadata": {},
   "outputs": [
    {
     "name": "stdout",
     "output_type": "stream",
     "text": [
      "Number of movies 7497\n"
     ]
    }
   ],
   "source": [
    "import pickle\n",
    "import os\n",
    "\n",
    "\n",
    "MOVIES_DATA_FILE = 'movies04-01-2022-22-16-49-7497.pkl'\n",
    "\n",
    "movies = pickle.load(open(os.path.join('data', MOVIES_DATA_FILE), 'rb'))\n",
    "print('Number of movies', len(movies))"
   ]
  },
  {
   "cell_type": "code",
   "execution_count": 14,
   "id": "c8f2fd48-94f3-4372-a8ea-8ca1fc8c5142",
   "metadata": {},
   "outputs": [
    {
     "name": "stdout",
     "output_type": "stream",
     "text": [
      "skipped 66\n"
     ]
    }
   ],
   "source": [
    "from datetime import datetime\n",
    "\n",
    "parsed_movies_scores = []\n",
    "parsed_movies_release_dates = []\n",
    "parsed_movies_titles = []\n",
    "skipped_count = 0\n",
    "\n",
    "\n",
    "for movie in movies:\n",
    "    try:\n",
    "        name = movie['page_title'].replace(' - Rotten Tomatoes', '')\n",
    "        audience_score = int(movie['audience_score'])\n",
    "        release_date = datetime.strptime(movie['release_date'], '%b %d, %Y')\n",
    "        parsed_movies_release_dates.append(release_date)\n",
    "        parsed_movies_scores.append(audience_score)\n",
    "        parsed_movies_titles.append(name)\n",
    "    except:\n",
    "        skipped_count += 1\n",
    "\n",
    "print('skipped', skipped_count)\n",
    "\n",
    "\n",
    "\n"
   ]
  },
  {
   "cell_type": "code",
   "execution_count": 15,
   "id": "c98b2117-1f53-4fd7-be37-d3184c8288b8",
   "metadata": {},
   "outputs": [],
   "source": [
    "from bokeh.plotting import figure, show, ColumnDataSource, output_file\n",
    "\n",
    "source = ColumnDataSource(data=dict(\n",
    "    x=parsed_movies_release_dates,\n",
    "    y=parsed_movies_scores,\n",
    "    parsed_movies_titles=parsed_movies_titles,\n",
    "    parsed_movies_release_dates= [date.strftime(\"%m/%d/%Y\") for date in parsed_movies_release_dates]\n",
    "))\n",
    "\n",
    "TOOLTIPS = [\n",
    "    (\"Title\", \"@parsed_movies_titles\"),\n",
    "    (\"Audience Score\", \"$y\"),\n",
    "    (\"Release Date\", \"@parsed_movies_release_dates\"),\n",
    "]\n",
    "\n",
    "output_file(os.path.join('graphs', \"movies.html\"))\n",
    "plot = figure(title=\"Movies by rotten tomatoes audience score\", x_axis_label='Release Date', y_axis_label='Audience Score', x_axis_type='datetime',  tooltips=TOOLTIPS)\n",
    "\n",
    "plot.circle('x', 'y', source=source)\n",
    "show(plot)\n",
    "\n",
    "\n"
   ]
  }
 ],
 "metadata": {
  "interpreter": {
   "hash": "d7d0a1390bacb00080ed328653fb5e627950872ec120376dce45c94e6dfbb0be"
  },
  "kernelspec": {
   "display_name": "rottentomatoes",
   "language": "python",
   "name": "python3"
  },
  "language_info": {
   "codemirror_mode": {
    "name": "ipython",
    "version": 3
   },
   "file_extension": ".py",
   "mimetype": "text/x-python",
   "name": "python",
   "nbconvert_exporter": "python",
   "pygments_lexer": "ipython3",
   "version": "3.9.5"
  }
 },
 "nbformat": 4,
 "nbformat_minor": 5
}
