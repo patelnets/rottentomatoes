{
 "cells": [
  {
   "cell_type": "code",
   "execution_count": 1,
   "id": "608f7bb8-4ab6-4d84-b742-d120705567b6",
   "metadata": {},
   "outputs": [],
   "source": [
    "import pickle\n",
    "test_links = ['https://www.rottentomatoes.com/m/rumble_2021',\n",
    " 'https://www.rottentomatoes.com/m/hurt_2021',\n",
    " 'https://www.rottentomatoes.com/m/mosley',\n",
    " 'https://www.rottentomatoes.com/m/benedetta',\n",
    " 'https://www.rottentomatoes.com/m/last_words',\n",
    " 'https://www.rottentomatoes.com/m/death_of_a_telemarketer',\n",
    " 'https://www.rottentomatoes.com/m/saint_narcisse',\n",
    " 'https://www.rottentomatoes.com/m/maybe_this_year',\n",
    " 'https://www.rottentomatoes.com/m/try_harder',\n",
    " 'https://www.rottentomatoes.com/m/back_to_the_outback']\n",
    "\n",
    "test_links = pickle.load(open('data/2links24-12-2021-19-29-31-9457.pkl', 'rb'))"
   ]
  },
  {
   "cell_type": "code",
   "execution_count": 2,
   "id": "bc30e148-c570-4935-b168-5e7a2c611c84",
   "metadata": {},
   "outputs": [],
   "source": [
    "from SeleniumDriver import getDriver\n",
    "driver = getDriver()"
   ]
  },
  {
   "cell_type": "code",
   "execution_count": 6,
   "id": "a6092fd9-6618-4997-ba62-f711d24c4775",
   "metadata": {},
   "outputs": [
    {
     "name": "stdout",
     "output_type": "stream",
     "text": [
      "Going through links 6\n",
      "i 0\n",
      "number of errored links 0\n",
      "link https://www.rottentomatoes.com/m/tales_from_the_hood_2\n",
      "{'audience_score': '26', 'tomato_meter_score': '78', 'release_date': 'Oct 2, 2018', 'page_title': 'Tales From the Hood 2 - Rotten Tomatoes', 'link': 'https://www.rottentomatoes.com/m/tales_from_the_hood_2'}\n",
      "i 1\n",
      "link https://www.rottentomatoes.com/m/apostle_2018\n",
      "{'audience_score': '53', 'tomato_meter_score': '79', 'release_date': 'Oct 12, 2018', 'page_title': 'Apostle - Rotten Tomatoes', 'link': 'https://www.rottentomatoes.com/m/apostle_2018'}\n",
      "i 2\n",
      "link https://www.rottentomatoes.com/m/better_start_running\n",
      "{'audience_score': '38', 'tomato_meter_score': '33', 'release_date': 'Oct 12, 2018', 'page_title': 'Better Start Running - Rotten Tomatoes', 'link': 'https://www.rottentomatoes.com/m/better_start_running'}\n",
      "i 3\n",
      "link https://www.rottentomatoes.com/m/maximum_impact_2018\n",
      "{'audience_score': '0', 'tomato_meter_score': '9', 'release_date': 'Sep 28, 2018', 'page_title': 'Maximum Impact - Rotten Tomatoes', 'link': 'https://www.rottentomatoes.com/m/maximum_impact_2018'}\n",
      "i 4\n",
      "link https://www.rottentomatoes.com/m/22_july\n",
      "{'audience_score': '68', 'tomato_meter_score': '81', 'release_date': 'Oct 10, 2018', 'page_title': '22 July - Rotten Tomatoes', 'link': 'https://www.rottentomatoes.com/m/22_july'}\n",
      "i 5\n",
      "link https://www.rottentomatoes.com/m/malevolent_2018\n",
      "{'audience_score': '17', 'tomato_meter_score': '55', 'release_date': 'Oct 5, 2018', 'page_title': 'Malevolent - Rotten Tomatoes', 'link': 'https://www.rottentomatoes.com/m/malevolent_2018'}\n"
     ]
    }
   ],
   "source": [
    "import time\n",
    "import logging\n",
    "from datetime import datetime\n",
    "from selenium.webdriver.common.by import By\n",
    "\n",
    "now = datetime.now()\n",
    "dt_string = now.strftime(\"%d-%m-%Y-%H-%M-%S\")\n",
    "\n",
    "prev_done_movies = pickle.load(open('data/movies03-01-2022-18-07-29-1796.pkl', 'rb'))\n",
    "prev_done_movies_hash_map = {}\n",
    "for movie in prev_done_movies:\n",
    "    link = movie['link']\n",
    "    prev_done_movies_hash_map[link] = True\n",
    "\n",
    "def save_movies(movies): \n",
    "    name_of_file = 'movies{date}-{num_of_movies}.pkl'.format(num_of_movies=len(movies), date=dt_string)\n",
    "    with open(name_of_file, 'wb') as f:\n",
    "            pickle.dump(movies, f)\n",
    "            \n",
    "movies_with_information = []\n",
    "errored_links = []\n",
    "print(\"Going through links\", len(test_links))\n",
    "for i in range(len(test_links)):\n",
    "    link = test_links[i]\n",
    "    print(\"i\", i)\n",
    "    if (i % 500) == 0:\n",
    "        save_movies(movies_with_information)\n",
    "        print('number of errored links', len(errored_links))\n",
    "    try:\n",
    "        if (link in prev_done_movies_hash_map):\n",
    "            continue\n",
    "        print( \"link\", link)\n",
    "        driver.get(link)\n",
    "        time.sleep(0.5)\n",
    "        score_board_elm = driver.find_element(By.TAG_NAME, \"score-board\")\n",
    "        audience_score = score_board_elm.get_attribute(\"audiencescore\")\n",
    "        tomato_meter_score = score_board_elm.get_attribute(\"tomatometerscore\")\n",
    "        release_date = driver.find_element(By.TAG_NAME, \"time\").text\n",
    "        page_title = driver.title\n",
    "        information = {\n",
    "            \"audience_score\" :  audience_score,\n",
    "            \"tomato_meter_score\" :  tomato_meter_score,\n",
    "            \"release_date\": release_date,\n",
    "            \"page_title\": page_title,\n",
    "            \"link\": link,\n",
    "        }\n",
    "        print(information)\n",
    "        movies_with_information.append(information)\n",
    "        time.sleep(0.5)\n",
    "    except Exception as e:\n",
    "        print('Errored link')\n",
    "        logging.exception(e, exc_info=True)\n",
    "        errored_links.append(link)\n",
    "\n",
    "save_movies(movies_with_information)\n",
    "\n"
   ]
  },
  {
   "cell_type": "code",
   "execution_count": null,
   "id": "d9963f4c-ffc9-4e57-9185-0ad90e41a84a",
   "metadata": {},
   "outputs": [],
   "source": []
  },
  {
   "cell_type": "code",
   "execution_count": null,
   "id": "7607dd46-3032-46db-8ab8-4a07567def5b",
   "metadata": {},
   "outputs": [],
   "source": []
  }
 ],
 "metadata": {
  "interpreter": {
   "hash": "afc7f68d030498b7da4d538db87f988762ac6da8e13974322b0e82e43c04d377"
  },
  "kernelspec": {
   "display_name": "rottentomatoes",
   "language": "python",
   "name": "python3"
  },
  "language_info": {
   "codemirror_mode": {
    "name": "ipython",
    "version": 3
   },
   "file_extension": ".py",
   "mimetype": "text/x-python",
   "name": "python",
   "nbconvert_exporter": "python",
   "pygments_lexer": "ipython3",
   "version": "3.9.5"
  }
 },
 "nbformat": 4,
 "nbformat_minor": 5
}
