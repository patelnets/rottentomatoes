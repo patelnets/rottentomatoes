{
 "cells": [
  {
   "cell_type": "markdown",
   "id": "a23918f4",
   "metadata": {},
   "source": [
    "This file takes a while to run since it goes through each link, loads it and scrapes the necessary data. Since it takes a while I've added in some code which takes any previously fetched movie data and ensures those are not scraped again. "
   ]
  },
  {
   "cell_type": "code",
   "execution_count": 4,
   "id": "608f7bb8-4ab6-4d84-b742-d120705567b6",
   "metadata": {},
   "outputs": [
    {
     "name": "stdout",
     "output_type": "stream",
     "text": [
      "Number of links 5\n"
     ]
    }
   ],
   "source": [
    "import pickle\n",
    "import os\n",
    "\n",
    "MOVIE_LINKS_FILE = '2links24-12-2021-19-29-31-9457.pkl'\n",
    "PREV_MOVIES_DATA_FILE = \"test-1769.pkl\"\n",
    "\n",
    "test_links = ['https://www.rottentomatoes.com/m/rumble_2021',\n",
    " 'https://www.rottentomatoes.com/m/hurt_2021',\n",
    " 'https://www.rottentomatoes.com/m/back_to_the_outback']\n",
    "\n",
    "test_links = pickle.load(open( os.path.join('data', MOVIE_LINKS_FILE), 'rb'))[-5:]\n",
    "\n",
    "print(\"Number of links\", len(test_links))"
   ]
  },
  {
   "cell_type": "code",
   "execution_count": 2,
   "id": "bc30e148-c570-4935-b168-5e7a2c611c84",
   "metadata": {},
   "outputs": [],
   "source": [
    "from SeleniumDriver import getDriver\n",
    "driver = getDriver()"
   ]
  },
  {
   "cell_type": "code",
   "execution_count": 5,
   "id": "a6092fd9-6618-4997-ba62-f711d24c4775",
   "metadata": {},
   "outputs": [
    {
     "name": "stdout",
     "output_type": "stream",
     "text": [
      "i 0\n",
      "Scraping link https://www.rottentomatoes.com/m/hottie_and_the_nottie\n",
      "i 1\n",
      "Scraping link https://www.rottentomatoes.com/m/cover\n",
      "i 2\n",
      "Scraping link https://www.rottentomatoes.com/m/it_happened_in_brooklyn\n",
      "i 3\n",
      "Scraping link https://www.rottentomatoes.com/m/la_chinoise\n",
      "i 4\n",
      "Scraping link https://www.rottentomatoes.com/m/day_of_the_outlaw\n",
      "Number of errored movie links 0\n"
     ]
    }
   ],
   "source": [
    "import time\n",
    "import logging\n",
    "from datetime import datetime\n",
    "from selenium.webdriver.common.by import By\n",
    "\n",
    "NOW_DATE_STRING = datetime.now().strftime(\"%d-%m-%Y-%H-%M-%S\")\n",
    "\n",
    "def saveMovies(movies): \n",
    "    name_of_file = 'movies-{num_of_movies}-date-{date}.pkl'.format(num_of_movies=len(movies), date=NOW_DATE_STRING)\n",
    "    with open(os.path.join('data', name_of_file), 'wb') as f:\n",
    "            pickle.dump(movies, f)\n",
    "\n",
    "prev_movies_data_hash_map = {}\n",
    "if (PREV_MOVIES_DATA_FILE):\n",
    "    prev_movies_data = pickle.load(open(os.path.join('data',PREV_MOVIES_DATA_FILE), 'rb'))\n",
    "    for movie in prev_movies_data:\n",
    "        link = movie['link']\n",
    "        prev_movies_data_hash_map[link] = True\n",
    "\n",
    "scraped_movies = []\n",
    "errored_links = []\n",
    "\n",
    "for i in range(len(test_links)):\n",
    "    link = test_links[i]\n",
    "    print(\"i\", i)\n",
    "    if i > 0 and (i % 500 == 0):\n",
    "        saveMovies(scraped_movies)\n",
    "    try:\n",
    "        if (link in prev_movies_data_hash_map):\n",
    "            continue\n",
    "\n",
    "        print( \"Scraping link\", link)\n",
    "        driver.get(link)\n",
    "        time.sleep(0.2)\n",
    "\n",
    "        # TODO Don't skip whole movie if some fields error\n",
    "        score_board_elm = driver.find_element(By.TAG_NAME, \"score-board\")\n",
    "        audience_score = score_board_elm.get_attribute(\"audiencescore\")\n",
    "        tomato_meter_score = score_board_elm.get_attribute(\"tomatometerscore\")\n",
    "        release_date = driver.find_element(By.TAG_NAME, \"time\").text\n",
    "        page_title = driver.title\n",
    "        information = {\n",
    "            \"audience_score\" :  audience_score,\n",
    "            \"tomato_meter_score\" :  tomato_meter_score,\n",
    "            \"release_date\": release_date,\n",
    "            \"page_title\": page_title,\n",
    "            \"link\": link,\n",
    "        }\n",
    "        scraped_movies.append(information)\n",
    "    except Exception as e:\n",
    "        logging.exception(e, exc_info=True) # Uncomment for debugging, could use debug levels in future\n",
    "        errored_links.append(link)\n",
    "\n",
    "saveMovies(scraped_movies)\n",
    "print('Number of errored movie links', len(errored_links))\n"
   ]
  }
 ],
 "metadata": {
  "interpreter": {
   "hash": "afc7f68d030498b7da4d538db87f988762ac6da8e13974322b0e82e43c04d377"
  },
  "kernelspec": {
   "display_name": "rottentomatoes",
   "language": "python",
   "name": "python3"
  },
  "language_info": {
   "codemirror_mode": {
    "name": "ipython",
    "version": 3
   },
   "file_extension": ".py",
   "mimetype": "text/x-python",
   "name": "python",
   "nbconvert_exporter": "python",
   "pygments_lexer": "ipython3",
   "version": "3.9.5"
  }
 },
 "nbformat": 4,
 "nbformat_minor": 5
}
