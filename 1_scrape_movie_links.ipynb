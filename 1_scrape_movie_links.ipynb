{
 "cells": [
  {
   "cell_type": "markdown",
   "id": "6ac8e0fd",
   "metadata": {},
   "source": [
    "Install [chrome driver](https://sites.google.com/chromium.org/driver/downloads?authuser=0) and save the executable in the root folder\n",
    "\n",
    "This file scrapes all the links to every movie which has been released on dvd or streaming from [this page](https://www.rottentomatoes.com/browse/dvd-streaming-all/)"
   ]
  },
  {
   "cell_type": "code",
   "execution_count": 3,
   "id": "cd19a67f-8eb4-4ff3-8d64-5013631e5015",
   "metadata": {},
   "outputs": [],
   "source": [
    "from SeleniumDriver import getDriver\n",
    "\n",
    "driver = getDriver()\n",
    "driver.get(\"https://www.rottentomatoes.com/browse/dvd-streaming-all/\")"
   ]
  },
  {
   "cell_type": "code",
   "execution_count": 6,
   "id": "61a44d4b-02d4-494a-9b58-c20d313e71de",
   "metadata": {},
   "outputs": [
    {
     "name": "stdout",
     "output_type": "stream",
     "text": [
      "Number of links found: 346\n"
     ]
    }
   ],
   "source": [
    "import time\n",
    "import pickle\n",
    "import os\n",
    "from datetime import datetime\n",
    "\n",
    "from selenium.webdriver.common.by import By\n",
    "\n",
    "NOW_DATE_STRING = datetime.now().strftime(\"%d-%m-%Y-%H-%M-%S\")\n",
    "\n",
    "def getShowMoreButton():\n",
    "    return driver.find_element(By.XPATH, \"//*[contains(text(), 'Show More')]\")\n",
    "\n",
    "show_more_button = getShowMoreButton()\n",
    "for i in range(1):\n",
    "    show_more_button.click()\n",
    "    time.sleep(0.2)\n",
    "    show_more_button = getShowMoreButton()\n",
    "\n",
    "movie_poster_divs = driver.find_elements(By.CLASS_NAME ,'poster_container')\n",
    "movie_link_tags = [i.find_element(By.TAG_NAME ,'a').get_attribute(\"href\") for i in movie_poster_divs]\n",
    "print('Number of links found: {num_of_links}'.format(num_of_links=len(movie_link_tags)))\n",
    "name_of_file = 'links-{num_of_links}-date-{date}.pkl'.format(num_of_links=len(movie_link_tags), date=NOW_DATE_STRING)\n",
    "with open(os.path.join('data', name_of_file), 'wb') as f:\n",
    "        pickle.dump(movie_link_tags, f) \n"
   ]
  }
 ],
 "metadata": {
  "interpreter": {
   "hash": "d7d0a1390bacb00080ed328653fb5e627950872ec120376dce45c94e6dfbb0be"
  },
  "kernelspec": {
   "display_name": "rottentomatoes",
   "language": "python",
   "name": "python3"
  },
  "language_info": {
   "codemirror_mode": {
    "name": "ipython",
    "version": 3
   },
   "file_extension": ".py",
   "mimetype": "text/x-python",
   "name": "python",
   "nbconvert_exporter": "python",
   "pygments_lexer": "ipython3",
   "version": "3.9.5"
  }
 },
 "nbformat": 4,
 "nbformat_minor": 5
}
