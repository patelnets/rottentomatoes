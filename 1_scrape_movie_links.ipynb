{
 "cells": [
  {
   "cell_type": "code",
   "execution_count": 117,
   "id": "be5069aa-e419-4876-bcb2-9819009b6ab3",
   "metadata": {},
   "outputs": [],
   "source": [
    "# Install chrome driver https://sites.google.com/chromium.org/driver/downloads?authuser=0\n",
    "# Set up venv kernel \n",
    "# https://github.com/pdrm83/rotten_tomatoes_scraper/blob/master/rotten_tomatoes_scraper/rt_scraper.py "
   ]
  },
  {
   "cell_type": "code",
   "execution_count": 118,
   "id": "63f5b88e-8d5f-44e5-984f-6530a4833d00",
   "metadata": {},
   "outputs": [],
   "source": [
    "# # BeautifulSoup \n",
    "# from bs4 import BeautifulSoup\n",
    "# from urllib.request import urlopen\n",
    "# from selenium import webdriver\n",
    "\n",
    "# page_movie = urlopen(\"https://www.rottentomatoes.com/browse/dvd-streaming-all/\")\n",
    "# soup = BeautifulSoup(page_movie)\n"
   ]
  },
  {
   "cell_type": "code",
   "execution_count": 119,
   "id": "59214ab3-4377-43a3-93e0-e9ca788ee22e",
   "metadata": {},
   "outputs": [],
   "source": [
    "# score = soup.find('BROWSE ALL')\n",
    "# mydivs = soup.find_all(\"span\", {\"class\": \"tMeterScore\"})\n"
   ]
  },
  {
   "cell_type": "code",
   "execution_count": 1,
   "id": "cd19a67f-8eb4-4ff3-8d64-5013631e5015",
   "metadata": {},
   "outputs": [
    {
     "ename": "AttributeError",
     "evalue": "'NoneType' object has no attribute 'get'",
     "output_type": "error",
     "traceback": [
      "\u001b[0;31m---------------------------------------------------------------------------\u001b[0m",
      "\u001b[0;31mAttributeError\u001b[0m                            Traceback (most recent call last)",
      "\u001b[0;32m/var/folders/p5/94p0029n1vs5yrzj_18np93m0000gn/T/ipykernel_7948/111061074.py\u001b[0m in \u001b[0;36m<module>\u001b[0;34m\u001b[0m\n\u001b[1;32m     19\u001b[0m \u001b[0mdriver\u001b[0m \u001b[0;34m=\u001b[0m \u001b[0mgetDriver\u001b[0m\u001b[0;34m(\u001b[0m\u001b[0;34m)\u001b[0m\u001b[0;34m\u001b[0m\u001b[0;34m\u001b[0m\u001b[0m\n\u001b[1;32m     20\u001b[0m \u001b[0;34m\u001b[0m\u001b[0m\n\u001b[0;32m---> 21\u001b[0;31m \u001b[0mdriver\u001b[0m\u001b[0;34m.\u001b[0m\u001b[0mget\u001b[0m\u001b[0;34m(\u001b[0m\u001b[0;34m\"https://www.rottentomatoes.com/browse/dvd-streaming-all/\"\u001b[0m\u001b[0;34m)\u001b[0m\u001b[0;34m\u001b[0m\u001b[0;34m\u001b[0m\u001b[0m\n\u001b[0m\u001b[1;32m     22\u001b[0m \u001b[0;34m\u001b[0m\u001b[0m\n\u001b[1;32m     23\u001b[0m \u001b[0;34m\u001b[0m\u001b[0m\n",
      "\u001b[0;31mAttributeError\u001b[0m: 'NoneType' object has no attribute 'get'"
     ]
    }
   ],
   "source": [
    "from SeleniumDriver import getDriver\n",
    "\n",
    "driver = getDriver()\n",
    "driver.get(\"https://www.rottentomatoes.com/browse/dvd-streaming-all/\")\n",
    "\n",
    "\n"
   ]
  },
  {
   "cell_type": "code",
   "execution_count": 121,
   "id": "162b65f7-4ddc-4fab-a2e7-01868d906ea7",
   "metadata": {},
   "outputs": [],
   "source": [
    "\n",
    "\n",
    "\n",
    "\n",
    "# movie_poster_divs = driver.find_elements(By.CLASS_NAME ,'poster_container')\n",
    "# movie_link_tags = [i.find_element(By.TAG_NAME ,'a') for i in  movie_poster_divs]\n",
    "# for link_tag in movie_link_tags:\n",
    "#     links.append(link_tag.get_attribute(\"href\"))\n",
    "\n"
   ]
  },
  {
   "cell_type": "code",
   "execution_count": 123,
   "id": "61a44d4b-02d4-494a-9b58-c20d313e71de",
   "metadata": {},
   "outputs": [
    {
     "name": "stdout",
     "output_type": "stream",
     "text": [
      "Length of links 9457\n"
     ]
    }
   ],
   "source": [
    "import time\n",
    "import pickle\n",
    "from datetime import datetime\n",
    "from selenium.webdriver.common.by import By\n",
    "\n",
    "now = datetime.now()\n",
    "dt_string = now.strftime(\"%d-%m-%Y-%H-%M-%S\")\n",
    "\n",
    "links = []\n",
    "\n",
    "def saveLinks(): \n",
    "    movie_poster_divs = driver.find_elements(By.CLASS_NAME ,'poster_container')\n",
    "    movie_link_tags = [i.find_element(By.TAG_NAME ,'a') for i in movie_poster_divs]\n",
    "    for link_tag in movie_link_tags[len(links):]:\n",
    "        links.append(link_tag.get_attribute(\"href\"))\n",
    "    print(\"Length of links\", len(links))\n",
    "    name_of_file = 'links{date}-{num_of_links}.pkl'.format(num_of_links=len(links), date=dt_string)\n",
    "    with open(name_of_file, 'wb') as f:\n",
    "            pickle.dump(links, f) \n",
    "\n",
    "for i in range(1000):\n",
    "    print(i)\n",
    "    if (i % 100) == 0:\n",
    "        saveLinks()\n",
    "    show_more_button = driver.find_element(By.XPATH, \"//*[contains(text(), 'Show More')]\")\n",
    "    if (show_more_button):\n",
    "        show_more_button.click()\n",
    "    time.sleep(0.2)\n",
    "\n",
    "saveLinks()\n"
   ]
  },
  {
   "cell_type": "code",
   "execution_count": 127,
   "id": "6c473db8-61b9-4e50-9f46-7370b595bea5",
   "metadata": {},
   "outputs": [],
   "source": []
  },
  {
   "cell_type": "code",
   "execution_count": null,
   "id": "c4bd2783-c6c9-416f-83ec-2827e3e94334",
   "metadata": {},
   "outputs": [],
   "source": []
  },
  {
   "cell_type": "code",
   "execution_count": 129,
   "id": "a6a5318f-28ae-477f-9459-ba5a7cafb05d",
   "metadata": {},
   "outputs": [
    {
     "ename": "NoSuchElementException",
     "evalue": "Message: no such element: Unable to locate element: {\"method\":\"css selector\",\"selector\":\".percentage\"}\n  (Session info: chrome=96.0.4664.110)\nStacktrace:\n0   chromedriver                        0x000000010e8b4269 __gxx_personality_v0 + 582729\n1   chromedriver                        0x000000010e83fc33 __gxx_personality_v0 + 106003\n2   chromedriver                        0x000000010e3fce28 chromedriver + 171560\n3   chromedriver                        0x000000010e4323d2 chromedriver + 390098\n4   chromedriver                        0x000000010e432591 chromedriver + 390545\n5   chromedriver                        0x000000010e4646b4 chromedriver + 595636\n6   chromedriver                        0x000000010e44f9fd chromedriver + 510461\n7   chromedriver                        0x000000010e462462 chromedriver + 586850\n8   chromedriver                        0x000000010e44fc23 chromedriver + 511011\n9   chromedriver                        0x000000010e42575e chromedriver + 337758\n10  chromedriver                        0x000000010e426a95 chromedriver + 342677\n11  chromedriver                        0x000000010e8708ab __gxx_personality_v0 + 305803\n12  chromedriver                        0x000000010e887863 __gxx_personality_v0 + 399939\n13  chromedriver                        0x000000010e88cc7f __gxx_personality_v0 + 421471\n14  chromedriver                        0x000000010e888bba __gxx_personality_v0 + 404890\n15  chromedriver                        0x000000010e864e51 __gxx_personality_v0 + 258097\n16  chromedriver                        0x000000010e8a4158 __gxx_personality_v0 + 516920\n17  chromedriver                        0x000000010e8a42e1 __gxx_personality_v0 + 517313\n18  chromedriver                        0x000000010e8bb6f8 __gxx_personality_v0 + 612568\n19  libsystem_pthread.dylib             0x00007ff81d579514 _pthread_start + 125\n20  libsystem_pthread.dylib             0x00007ff81d57502f thread_start + 15\n",
     "output_type": "error",
     "traceback": [
      "\u001b[0;31m---------------------------------------------------------------------------\u001b[0m",
      "\u001b[0;31mNoSuchElementException\u001b[0m                    Traceback (most recent call last)",
      "\u001b[0;32m/var/folders/p5/94p0029n1vs5yrzj_18np93m0000gn/T/ipykernel_70126/3975936730.py\u001b[0m in \u001b[0;36m<module>\u001b[0;34m\u001b[0m\n\u001b[1;32m      3\u001b[0m     \u001b[0mdriver\u001b[0m\u001b[0;34m.\u001b[0m\u001b[0mget\u001b[0m\u001b[0;34m(\u001b[0m\u001b[0mlink\u001b[0m\u001b[0;34m)\u001b[0m\u001b[0;34m\u001b[0m\u001b[0;34m\u001b[0m\u001b[0m\n\u001b[1;32m      4\u001b[0m     \u001b[0mtime\u001b[0m\u001b[0;34m.\u001b[0m\u001b[0msleep\u001b[0m\u001b[0;34m(\u001b[0m\u001b[0;36m3\u001b[0m\u001b[0;34m)\u001b[0m\u001b[0;34m\u001b[0m\u001b[0;34m\u001b[0m\u001b[0m\n\u001b[0;32m----> 5\u001b[0;31m     \u001b[0mmovie_poster_divs\u001b[0m \u001b[0;34m=\u001b[0m \u001b[0mdriver\u001b[0m\u001b[0;34m.\u001b[0m\u001b[0mfind_element\u001b[0m\u001b[0;34m(\u001b[0m\u001b[0mBy\u001b[0m\u001b[0;34m.\u001b[0m\u001b[0mCLASS_NAME\u001b[0m \u001b[0;34m,\u001b[0m\u001b[0;34m'percentage'\u001b[0m\u001b[0;34m)\u001b[0m\u001b[0;34m\u001b[0m\u001b[0;34m\u001b[0m\u001b[0m\n\u001b[0m\u001b[1;32m      6\u001b[0m     \u001b[0mpercentage\u001b[0m \u001b[0;34m=\u001b[0m \u001b[0mmovie_poster_divs\u001b[0m\u001b[0;34m.\u001b[0m\u001b[0mtext\u001b[0m\u001b[0;34m\u001b[0m\u001b[0;34m\u001b[0m\u001b[0m\n\u001b[1;32m      7\u001b[0m \u001b[0;34m\u001b[0m\u001b[0m\n",
      "\u001b[0;32m~/Documents/RottenTomatoes/.env/lib/python3.9/site-packages/selenium/webdriver/remote/webdriver.py\u001b[0m in \u001b[0;36mfind_element\u001b[0;34m(self, by, value)\u001b[0m\n\u001b[1;32m   1242\u001b[0m             \u001b[0mvalue\u001b[0m \u001b[0;34m=\u001b[0m \u001b[0;34m'[name=\"%s\"]'\u001b[0m \u001b[0;34m%\u001b[0m \u001b[0mvalue\u001b[0m\u001b[0;34m\u001b[0m\u001b[0;34m\u001b[0m\u001b[0m\n\u001b[1;32m   1243\u001b[0m \u001b[0;34m\u001b[0m\u001b[0m\n\u001b[0;32m-> 1244\u001b[0;31m         return self.execute(Command.FIND_ELEMENT, {\n\u001b[0m\u001b[1;32m   1245\u001b[0m             \u001b[0;34m'using'\u001b[0m\u001b[0;34m:\u001b[0m \u001b[0mby\u001b[0m\u001b[0;34m,\u001b[0m\u001b[0;34m\u001b[0m\u001b[0;34m\u001b[0m\u001b[0m\n\u001b[1;32m   1246\u001b[0m             'value': value})['value']\n",
      "\u001b[0;32m~/Documents/RottenTomatoes/.env/lib/python3.9/site-packages/selenium/webdriver/remote/webdriver.py\u001b[0m in \u001b[0;36mexecute\u001b[0;34m(self, driver_command, params)\u001b[0m\n\u001b[1;32m    422\u001b[0m         \u001b[0mresponse\u001b[0m \u001b[0;34m=\u001b[0m \u001b[0mself\u001b[0m\u001b[0;34m.\u001b[0m\u001b[0mcommand_executor\u001b[0m\u001b[0;34m.\u001b[0m\u001b[0mexecute\u001b[0m\u001b[0;34m(\u001b[0m\u001b[0mdriver_command\u001b[0m\u001b[0;34m,\u001b[0m \u001b[0mparams\u001b[0m\u001b[0;34m)\u001b[0m\u001b[0;34m\u001b[0m\u001b[0;34m\u001b[0m\u001b[0m\n\u001b[1;32m    423\u001b[0m         \u001b[0;32mif\u001b[0m \u001b[0mresponse\u001b[0m\u001b[0;34m:\u001b[0m\u001b[0;34m\u001b[0m\u001b[0;34m\u001b[0m\u001b[0m\n\u001b[0;32m--> 424\u001b[0;31m             \u001b[0mself\u001b[0m\u001b[0;34m.\u001b[0m\u001b[0merror_handler\u001b[0m\u001b[0;34m.\u001b[0m\u001b[0mcheck_response\u001b[0m\u001b[0;34m(\u001b[0m\u001b[0mresponse\u001b[0m\u001b[0;34m)\u001b[0m\u001b[0;34m\u001b[0m\u001b[0;34m\u001b[0m\u001b[0m\n\u001b[0m\u001b[1;32m    425\u001b[0m             response['value'] = self._unwrap_value(\n\u001b[1;32m    426\u001b[0m                 response.get('value', None))\n",
      "\u001b[0;32m~/Documents/RottenTomatoes/.env/lib/python3.9/site-packages/selenium/webdriver/remote/errorhandler.py\u001b[0m in \u001b[0;36mcheck_response\u001b[0;34m(self, response)\u001b[0m\n\u001b[1;32m    245\u001b[0m                 \u001b[0malert_text\u001b[0m \u001b[0;34m=\u001b[0m \u001b[0mvalue\u001b[0m\u001b[0;34m[\u001b[0m\u001b[0;34m'alert'\u001b[0m\u001b[0;34m]\u001b[0m\u001b[0;34m.\u001b[0m\u001b[0mget\u001b[0m\u001b[0;34m(\u001b[0m\u001b[0;34m'text'\u001b[0m\u001b[0;34m)\u001b[0m\u001b[0;34m\u001b[0m\u001b[0;34m\u001b[0m\u001b[0m\n\u001b[1;32m    246\u001b[0m             \u001b[0;32mraise\u001b[0m \u001b[0mexception_class\u001b[0m\u001b[0;34m(\u001b[0m\u001b[0mmessage\u001b[0m\u001b[0;34m,\u001b[0m \u001b[0mscreen\u001b[0m\u001b[0;34m,\u001b[0m \u001b[0mstacktrace\u001b[0m\u001b[0;34m,\u001b[0m \u001b[0malert_text\u001b[0m\u001b[0;34m)\u001b[0m  \u001b[0;31m# type: ignore[call-arg]  # mypy is not smart enough here\u001b[0m\u001b[0;34m\u001b[0m\u001b[0;34m\u001b[0m\u001b[0m\n\u001b[0;32m--> 247\u001b[0;31m         \u001b[0;32mraise\u001b[0m \u001b[0mexception_class\u001b[0m\u001b[0;34m(\u001b[0m\u001b[0mmessage\u001b[0m\u001b[0;34m,\u001b[0m \u001b[0mscreen\u001b[0m\u001b[0;34m,\u001b[0m \u001b[0mstacktrace\u001b[0m\u001b[0;34m)\u001b[0m\u001b[0;34m\u001b[0m\u001b[0;34m\u001b[0m\u001b[0m\n\u001b[0m\u001b[1;32m    248\u001b[0m \u001b[0;34m\u001b[0m\u001b[0m\n\u001b[1;32m    249\u001b[0m     \u001b[0;32mdef\u001b[0m \u001b[0m_value_or_default\u001b[0m\u001b[0;34m(\u001b[0m\u001b[0mself\u001b[0m\u001b[0;34m,\u001b[0m \u001b[0mobj\u001b[0m\u001b[0;34m:\u001b[0m \u001b[0mMapping\u001b[0m\u001b[0;34m[\u001b[0m\u001b[0m_KT\u001b[0m\u001b[0;34m,\u001b[0m \u001b[0m_VT\u001b[0m\u001b[0;34m]\u001b[0m\u001b[0;34m,\u001b[0m \u001b[0mkey\u001b[0m\u001b[0;34m:\u001b[0m \u001b[0m_KT\u001b[0m\u001b[0;34m,\u001b[0m \u001b[0mdefault\u001b[0m\u001b[0;34m:\u001b[0m \u001b[0m_VT\u001b[0m\u001b[0;34m)\u001b[0m \u001b[0;34m->\u001b[0m \u001b[0m_VT\u001b[0m\u001b[0;34m:\u001b[0m\u001b[0;34m\u001b[0m\u001b[0;34m\u001b[0m\u001b[0m\n",
      "\u001b[0;31mNoSuchElementException\u001b[0m: Message: no such element: Unable to locate element: {\"method\":\"css selector\",\"selector\":\".percentage\"}\n  (Session info: chrome=96.0.4664.110)\nStacktrace:\n0   chromedriver                        0x000000010e8b4269 __gxx_personality_v0 + 582729\n1   chromedriver                        0x000000010e83fc33 __gxx_personality_v0 + 106003\n2   chromedriver                        0x000000010e3fce28 chromedriver + 171560\n3   chromedriver                        0x000000010e4323d2 chromedriver + 390098\n4   chromedriver                        0x000000010e432591 chromedriver + 390545\n5   chromedriver                        0x000000010e4646b4 chromedriver + 595636\n6   chromedriver                        0x000000010e44f9fd chromedriver + 510461\n7   chromedriver                        0x000000010e462462 chromedriver + 586850\n8   chromedriver                        0x000000010e44fc23 chromedriver + 511011\n9   chromedriver                        0x000000010e42575e chromedriver + 337758\n10  chromedriver                        0x000000010e426a95 chromedriver + 342677\n11  chromedriver                        0x000000010e8708ab __gxx_personality_v0 + 305803\n12  chromedriver                        0x000000010e887863 __gxx_personality_v0 + 399939\n13  chromedriver                        0x000000010e88cc7f __gxx_personality_v0 + 421471\n14  chromedriver                        0x000000010e888bba __gxx_personality_v0 + 404890\n15  chromedriver                        0x000000010e864e51 __gxx_personality_v0 + 258097\n16  chromedriver                        0x000000010e8a4158 __gxx_personality_v0 + 516920\n17  chromedriver                        0x000000010e8a42e1 __gxx_personality_v0 + 517313\n18  chromedriver                        0x000000010e8bb6f8 __gxx_personality_v0 + 612568\n19  libsystem_pthread.dylib             0x00007ff81d579514 _pthread_start + 125\n20  libsystem_pthread.dylib             0x00007ff81d57502f thread_start + 15\n"
     ]
    }
   ],
   "source": [
    "\n",
    "    \n",
    "    "
   ]
  },
  {
   "cell_type": "code",
   "execution_count": null,
   "id": "d82a2732-082d-4205-bef9-4241b07830a5",
   "metadata": {},
   "outputs": [],
   "source": []
  }
 ],
 "metadata": {
  "kernelspec": {
   "display_name": "rottentomatoes",
   "language": "python",
   "name": "rottentomatoes"
  },
  "language_info": {
   "codemirror_mode": {
    "name": "ipython",
    "version": 3
   },
   "file_extension": ".py",
   "mimetype": "text/x-python",
   "name": "python",
   "nbconvert_exporter": "python",
   "pygments_lexer": "ipython3",
   "version": "3.9.5"
  }
 },
 "nbformat": 4,
 "nbformat_minor": 5
}
