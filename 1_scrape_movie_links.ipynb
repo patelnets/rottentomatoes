{
 "cells": [
  {
   "cell_type": "markdown",
   "id": "6ac8e0fd",
   "metadata": {},
   "source": [
    "Install [chrome driver](https://sites.google.com/chromium.org/driver/downloads?authuser=0) and save the executable in the root folder\n",
    "\n",
    "This file scrapes all the links to every movie which has been released on dvd or streaming from [this page](https://www.rottentomatoes.com/browse/dvd-streaming-all/)"
   ]
  },
  {
   "cell_type": "code",
   "execution_count": 1,
   "id": "cd19a67f-8eb4-4ff3-8d64-5013631e5015",
   "metadata": {},
   "outputs": [
    {
     "ename": "WebDriverException",
     "evalue": "Message: unknown error: cannot determine loading status\nfrom unknown error: cannot determine loading status\nfrom disconnected: Unable to receive message from renderer\n  (Session info: chrome=97.0.4692.71)\nStacktrace:\n0   chromedriver                        0x0000000108434269 __gxx_personality_v0 + 582729\n1   chromedriver                        0x00000001083bfc33 __gxx_personality_v0 + 106003\n2   chromedriver                        0x0000000107f7ce28 chromedriver + 171560\n3   chromedriver                        0x0000000107f686d1 chromedriver + 87761\n4   chromedriver                        0x0000000107f6775c chromedriver + 83804\n5   chromedriver                        0x0000000107f67b5c chromedriver + 84828\n6   chromedriver                        0x0000000107f86814 chromedriver + 210964\n7   chromedriver                        0x0000000107f7f658 chromedriver + 181848\n8   chromedriver                        0x0000000107f7f342 chromedriver + 181058\n9   chromedriver                        0x0000000107f7f90f chromedriver + 182543\n10  chromedriver                        0x0000000107f75d65 chromedriver + 142693\n11  chromedriver                        0x0000000107f7587f chromedriver + 141439\n12  chromedriver                        0x0000000107f75fa2 chromedriver + 143266\n13  chromedriver                        0x0000000107f83b63 chromedriver + 199523\n14  chromedriver                        0x0000000107f86c4a chromedriver + 212042\n15  chromedriver                        0x0000000107f67e7e chromedriver + 85630\n16  chromedriver                        0x0000000107f8379c chromedriver + 198556\n17  chromedriver                        0x0000000107fe287a chromedriver + 587898\n18  chromedriver                        0x0000000107fcfc23 chromedriver + 511011\n19  chromedriver                        0x0000000107fa575e chromedriver + 337758\n20  chromedriver                        0x0000000107fa6a95 chromedriver + 342677\n21  chromedriver                        0x00000001083f08ab __gxx_personality_v0 + 305803\n22  chromedriver                        0x0000000108407863 __gxx_personality_v0 + 399939\n23  chromedriver                        0x000000010840cc7f __gxx_personality_v0 + 421471\n24  chromedriver                        0x0000000108408bba __gxx_personality_v0 + 404890\n25  chromedriver                        0x00000001083e4e51 __gxx_personality_v0 + 258097\n26  chromedriver                        0x0000000108424158 __gxx_personality_v0 + 516920\n27  chromedriver                        0x00000001084242e1 __gxx_personality_v0 + 517313\n28  chromedriver                        0x000000010843b6f8 __gxx_personality_v0 + 612568\n29  libsystem_pthread.dylib             0x00007ff81a8c4514 _pthread_start + 125\n30  libsystem_pthread.dylib             0x00007ff81a8c002f thread_start + 15\n",
     "output_type": "error",
     "traceback": [
      "\u001b[0;31m---------------------------------------------------------------------------\u001b[0m",
      "\u001b[0;31mWebDriverException\u001b[0m                        Traceback (most recent call last)",
      "Input \u001b[0;32mIn [1]\u001b[0m, in \u001b[0;36m<module>\u001b[0;34m\u001b[0m\n\u001b[1;32m      1\u001b[0m \u001b[38;5;28;01mfrom\u001b[39;00m \u001b[38;5;21;01mSeleniumDriver\u001b[39;00m \u001b[38;5;28;01mimport\u001b[39;00m getDriver\n\u001b[1;32m      3\u001b[0m driver \u001b[38;5;241m=\u001b[39m getDriver()\n\u001b[0;32m----> 4\u001b[0m \u001b[43mdriver\u001b[49m\u001b[38;5;241;43m.\u001b[39;49m\u001b[43mget\u001b[49m\u001b[43m(\u001b[49m\u001b[38;5;124;43m\"\u001b[39;49m\u001b[38;5;124;43mhttps://www.rottentomatoes.com/browse/dvd-streaming-all/\u001b[39;49m\u001b[38;5;124;43m\"\u001b[39;49m\u001b[43m)\u001b[49m\n",
      "File \u001b[0;32m~/Documents/github-personal/rottentomatoes/.env/lib/python3.9/site-packages/selenium/webdriver/remote/webdriver.py:436\u001b[0m, in \u001b[0;36mWebDriver.get\u001b[0;34m(self, url)\u001b[0m\n\u001b[1;32m    432\u001b[0m \u001b[38;5;28;01mdef\u001b[39;00m \u001b[38;5;21mget\u001b[39m(\u001b[38;5;28mself\u001b[39m, url: \u001b[38;5;28mstr\u001b[39m) \u001b[38;5;241m-\u001b[39m\u001b[38;5;241m>\u001b[39m \u001b[38;5;28;01mNone\u001b[39;00m:\n\u001b[1;32m    433\u001b[0m     \u001b[38;5;124;03m\"\"\"\u001b[39;00m\n\u001b[1;32m    434\u001b[0m \u001b[38;5;124;03m    Loads a web page in the current browser session.\u001b[39;00m\n\u001b[1;32m    435\u001b[0m \u001b[38;5;124;03m    \"\"\"\u001b[39;00m\n\u001b[0;32m--> 436\u001b[0m     \u001b[38;5;28;43mself\u001b[39;49m\u001b[38;5;241;43m.\u001b[39;49m\u001b[43mexecute\u001b[49m\u001b[43m(\u001b[49m\u001b[43mCommand\u001b[49m\u001b[38;5;241;43m.\u001b[39;49m\u001b[43mGET\u001b[49m\u001b[43m,\u001b[49m\u001b[43m \u001b[49m\u001b[43m{\u001b[49m\u001b[38;5;124;43m'\u001b[39;49m\u001b[38;5;124;43murl\u001b[39;49m\u001b[38;5;124;43m'\u001b[39;49m\u001b[43m:\u001b[49m\u001b[43m \u001b[49m\u001b[43murl\u001b[49m\u001b[43m}\u001b[49m\u001b[43m)\u001b[49m\n",
      "File \u001b[0;32m~/Documents/github-personal/rottentomatoes/.env/lib/python3.9/site-packages/selenium/webdriver/remote/webdriver.py:424\u001b[0m, in \u001b[0;36mWebDriver.execute\u001b[0;34m(self, driver_command, params)\u001b[0m\n\u001b[1;32m    422\u001b[0m response \u001b[38;5;241m=\u001b[39m \u001b[38;5;28mself\u001b[39m\u001b[38;5;241m.\u001b[39mcommand_executor\u001b[38;5;241m.\u001b[39mexecute(driver_command, params)\n\u001b[1;32m    423\u001b[0m \u001b[38;5;28;01mif\u001b[39;00m response:\n\u001b[0;32m--> 424\u001b[0m     \u001b[38;5;28;43mself\u001b[39;49m\u001b[38;5;241;43m.\u001b[39;49m\u001b[43merror_handler\u001b[49m\u001b[38;5;241;43m.\u001b[39;49m\u001b[43mcheck_response\u001b[49m\u001b[43m(\u001b[49m\u001b[43mresponse\u001b[49m\u001b[43m)\u001b[49m\n\u001b[1;32m    425\u001b[0m     response[\u001b[38;5;124m'\u001b[39m\u001b[38;5;124mvalue\u001b[39m\u001b[38;5;124m'\u001b[39m] \u001b[38;5;241m=\u001b[39m \u001b[38;5;28mself\u001b[39m\u001b[38;5;241m.\u001b[39m_unwrap_value(\n\u001b[1;32m    426\u001b[0m         response\u001b[38;5;241m.\u001b[39mget(\u001b[38;5;124m'\u001b[39m\u001b[38;5;124mvalue\u001b[39m\u001b[38;5;124m'\u001b[39m, \u001b[38;5;28;01mNone\u001b[39;00m))\n\u001b[1;32m    427\u001b[0m     \u001b[38;5;28;01mreturn\u001b[39;00m response\n",
      "File \u001b[0;32m~/Documents/github-personal/rottentomatoes/.env/lib/python3.9/site-packages/selenium/webdriver/remote/errorhandler.py:247\u001b[0m, in \u001b[0;36mErrorHandler.check_response\u001b[0;34m(self, response)\u001b[0m\n\u001b[1;32m    245\u001b[0m         alert_text \u001b[38;5;241m=\u001b[39m value[\u001b[38;5;124m'\u001b[39m\u001b[38;5;124malert\u001b[39m\u001b[38;5;124m'\u001b[39m]\u001b[38;5;241m.\u001b[39mget(\u001b[38;5;124m'\u001b[39m\u001b[38;5;124mtext\u001b[39m\u001b[38;5;124m'\u001b[39m)\n\u001b[1;32m    246\u001b[0m     \u001b[38;5;28;01mraise\u001b[39;00m exception_class(message, screen, stacktrace, alert_text)  \u001b[38;5;66;03m# type: ignore[call-arg]  # mypy is not smart enough here\u001b[39;00m\n\u001b[0;32m--> 247\u001b[0m \u001b[38;5;28;01mraise\u001b[39;00m exception_class(message, screen, stacktrace)\n",
      "\u001b[0;31mWebDriverException\u001b[0m: Message: unknown error: cannot determine loading status\nfrom unknown error: cannot determine loading status\nfrom disconnected: Unable to receive message from renderer\n  (Session info: chrome=97.0.4692.71)\nStacktrace:\n0   chromedriver                        0x0000000108434269 __gxx_personality_v0 + 582729\n1   chromedriver                        0x00000001083bfc33 __gxx_personality_v0 + 106003\n2   chromedriver                        0x0000000107f7ce28 chromedriver + 171560\n3   chromedriver                        0x0000000107f686d1 chromedriver + 87761\n4   chromedriver                        0x0000000107f6775c chromedriver + 83804\n5   chromedriver                        0x0000000107f67b5c chromedriver + 84828\n6   chromedriver                        0x0000000107f86814 chromedriver + 210964\n7   chromedriver                        0x0000000107f7f658 chromedriver + 181848\n8   chromedriver                        0x0000000107f7f342 chromedriver + 181058\n9   chromedriver                        0x0000000107f7f90f chromedriver + 182543\n10  chromedriver                        0x0000000107f75d65 chromedriver + 142693\n11  chromedriver                        0x0000000107f7587f chromedriver + 141439\n12  chromedriver                        0x0000000107f75fa2 chromedriver + 143266\n13  chromedriver                        0x0000000107f83b63 chromedriver + 199523\n14  chromedriver                        0x0000000107f86c4a chromedriver + 212042\n15  chromedriver                        0x0000000107f67e7e chromedriver + 85630\n16  chromedriver                        0x0000000107f8379c chromedriver + 198556\n17  chromedriver                        0x0000000107fe287a chromedriver + 587898\n18  chromedriver                        0x0000000107fcfc23 chromedriver + 511011\n19  chromedriver                        0x0000000107fa575e chromedriver + 337758\n20  chromedriver                        0x0000000107fa6a95 chromedriver + 342677\n21  chromedriver                        0x00000001083f08ab __gxx_personality_v0 + 305803\n22  chromedriver                        0x0000000108407863 __gxx_personality_v0 + 399939\n23  chromedriver                        0x000000010840cc7f __gxx_personality_v0 + 421471\n24  chromedriver                        0x0000000108408bba __gxx_personality_v0 + 404890\n25  chromedriver                        0x00000001083e4e51 __gxx_personality_v0 + 258097\n26  chromedriver                        0x0000000108424158 __gxx_personality_v0 + 516920\n27  chromedriver                        0x00000001084242e1 __gxx_personality_v0 + 517313\n28  chromedriver                        0x000000010843b6f8 __gxx_personality_v0 + 612568\n29  libsystem_pthread.dylib             0x00007ff81a8c4514 _pthread_start + 125\n30  libsystem_pthread.dylib             0x00007ff81a8c002f thread_start + 15\n"
     ]
    }
   ],
   "source": [
    "from SeleniumDriver import getDriver\n",
    "\n",
    "driver = getDriver()\n",
    "driver.get(\"https://www.rottentomatoes.com/browse/dvd-streaming-all/\")"
   ]
  },
  {
   "cell_type": "code",
   "execution_count": 6,
   "id": "61a44d4b-02d4-494a-9b58-c20d313e71de",
   "metadata": {},
   "outputs": [
    {
     "name": "stdout",
     "output_type": "stream",
     "text": [
      "Number of links found: 346\n"
     ]
    }
   ],
   "source": [
    "import time\n",
    "import pickle\n",
    "import os\n",
    "from datetime import datetime\n",
    "\n",
    "from selenium.webdriver.common.by import By\n",
    "\n",
    "NOW_DATE_STRING = datetime.now().strftime(\"%d-%m-%Y-%H-%M-%S\")\n",
    "\n",
    "def getShowMoreButton():\n",
    "    return driver.find_element(By.XPATH, \"//*[contains(text(), 'Show More')]\")\n",
    "\n",
    "show_more_button = getShowMoreButton()\n",
    "for i in range(1):\n",
    "    show_more_button.click()\n",
    "    time.sleep(0.2)\n",
    "    show_more_button = getShowMoreButton()\n",
    "\n",
    "movie_poster_divs = driver.find_elements(By.CLASS_NAME ,'poster_container')\n",
    "movie_link_tags = [i.find_element(By.TAG_NAME ,'a').get_attribute(\"href\") for i in movie_poster_divs]\n",
    "print('Number of links found: {num_of_links}'.format(num_of_links=len(movie_link_tags)))\n",
    "name_of_file = 'links-{num_of_links}-date-{date}.pkl'.format(num_of_links=len(movie_link_tags), date=NOW_DATE_STRING)\n",
    "with open(os.path.join('data', name_of_file), 'wb') as f:\n",
    "        pickle.dump(movie_link_tags, f) \n"
   ]
  }
 ],
 "metadata": {
  "interpreter": {
   "hash": "d7d0a1390bacb00080ed328653fb5e627950872ec120376dce45c94e6dfbb0be"
  },
  "kernelspec": {
   "display_name": "rottentomatoes",
   "language": "python",
   "name": "python3"
  },
  "language_info": {
   "codemirror_mode": {
    "name": "ipython",
    "version": 3
   },
   "file_extension": ".py",
   "mimetype": "text/x-python",
   "name": "python",
   "nbconvert_exporter": "python",
   "pygments_lexer": "ipython3",
   "version": "3.9.5"
  }
 },
 "nbformat": 4,
 "nbformat_minor": 5
}
